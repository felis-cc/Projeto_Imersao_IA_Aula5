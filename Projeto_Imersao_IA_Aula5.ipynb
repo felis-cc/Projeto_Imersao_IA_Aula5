{
  "nbformat": 4,
  "nbformat_minor": 0,
  "metadata": {
    "colab": {
      "provenance": [],
      "authorship_tag": "ABX9TyPw+Nl+uDto3XMxUl04Onyz",
      "include_colab_link": true
    },
    "kernelspec": {
      "name": "python3",
      "display_name": "Python 3"
    },
    "language_info": {
      "name": "python"
    }
  },
  "cells": [
    {
      "cell_type": "markdown",
      "metadata": {
        "id": "view-in-github",
        "colab_type": "text"
      },
      "source": [
        "<a href=\"https://colab.research.google.com/github/felis-cc/Projeto_Imersao_IA_Aula5/blob/main/Projeto_Imersao_IA_Aula5.ipynb\" target=\"_parent\"><img src=\"https://colab.research.google.com/assets/colab-badge.svg\" alt=\"Open In Colab\"/></a>"
      ]
    },
    {
      "cell_type": "code",
      "execution_count": 1,
      "metadata": {
        "id": "eBcl5CKQUhAl"
      },
      "outputs": [],
      "source": [
        "!pip install -U -q google.generativeai"
      ]
    }
  ]
}